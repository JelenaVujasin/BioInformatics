{
  "nbformat": 4,
  "nbformat_minor": 0,
  "metadata": {
    "colab": {
      "provenance": []
    },
    "kernelspec": {
      "name": "python3",
      "display_name": "Python 3"
    },
    "language_info": {
      "name": "python"
    }
  },
  "cells": [
    {
      "cell_type": "code",
      "execution_count": null,
      "metadata": {
        "id": "fpgY-3oAfJkZ"
      },
      "outputs": [],
      "source": [
        "!gdown --id 1-0U11U1Z3Dp8vLHoZOtagQl25dFdza-C"
      ]
    },
    {
      "cell_type": "code",
      "source": [
        "!pip install crcmod"
      ],
      "metadata": {
        "id": "bfQz2L-cfLE9"
      },
      "execution_count": null,
      "outputs": []
    },
    {
      "cell_type": "code",
      "source": [
        "### samtools\n",
        "!apt-get install samtools\n",
        "\n",
        "### pysam\n",
        "!pip install pysam\n",
        "\n",
        "### picard\n",
        "!wget https://github.com/broadinstitute/picard/releases/download/2.21.6/picard.jar\n",
        "\n",
        "### GATK\n",
        "!wget -O gatk-4.1.4.1.zip \"https://github.com/broadinstitute/gatk/releases/download/4.1.4.1/gatk-4.1.4.1.zip\"\n",
        "!unzip gatk-4.1.4.1.zip\n",
        "!R -e 'install.packages(c(\"gplots\", \"gsalib\"))'"
      ],
      "metadata": {
        "id": "AXaFLoNofNk1"
      },
      "execution_count": null,
      "outputs": []
    },
    {
      "cell_type": "code",
      "source": [
        "!pip install pysam"
      ],
      "metadata": {
        "id": "_zGlcbkMfRfU"
      },
      "execution_count": null,
      "outputs": []
    },
    {
      "cell_type": "code",
      "source": [
        "!gsutil ls gs://genomics-public-data"
      ],
      "metadata": {
        "id": "uLZWDkdHfb_9"
      },
      "execution_count": null,
      "outputs": []
    },
    {
      "cell_type": "code",
      "source": [
        "!gsutil ls gs://genomics-public-data/resources/broad/hg38/v0"
      ],
      "metadata": {
        "id": "pme4BQwQfdlt"
      },
      "execution_count": null,
      "outputs": []
    },
    {
      "cell_type": "code",
      "source": [
        "!wget https://storage.googleapis.com/genomics-public-data/resources/broad/hg38/v0/Homo_sapiens_assembly38.fasta"
      ],
      "metadata": {
        "id": "X1uXMQSEhZ5d"
      },
      "execution_count": null,
      "outputs": []
    },
    {
      "cell_type": "code",
      "source": [
        "!git clone https://github.com/lh3/bwa.git\n",
        "!cd bwa && make"
      ],
      "metadata": {
        "id": "4H2rER9IjMU2"
      },
      "execution_count": null,
      "outputs": []
    },
    {
      "cell_type": "code",
      "source": [
        "!gsutil cp -r gs://genomics-public-data/resources/broad/hg38/v0 .\n",
        "!bwa/bwa mem -M -R '@RG\\tID:1\\tPL:Illumina\\tSM:HG00096' -o file.sam {'/content/v0/Homo_sapiens_assembly38.fasta'} {'/content/drive/MyDrive/sample_3.chrom11.exome.pe1.fq'} {'/content/drive/MyDrive/sample_3.chrom11.exome.pe2.fq'}\n",
        "!samtools view -b -o file.bam file.sam \n",
        "!samtools sort -o file.sorted.bam file.bam\n",
        "!samtools index file.sorted.bam"
      ],
      "metadata": {
        "id": "9e9_1SGyibyt"
      },
      "execution_count": null,
      "outputs": []
    },
    {
      "cell_type": "markdown",
      "source": [
        " Mapirati sekvencirane readove na referentni genom hg38 upotrebom alata BWA Mem. Upotrebom python biblioteke pysam odrediti sledeće:\n",
        "\n",
        "2a. Koliko je readova uspešno mapirano?\n",
        "2b. Koliko je parova readova mapirano tako da su oba para mapirana?\n",
        "2c. Nacrtati histogram dužina sekvenciranih fragmenata (template_length)."
      ],
      "metadata": {
        "id": "u4aIQMHxKduM"
      }
    },
    {
      "cell_type": "markdown",
      "source": [
        "2a. Koliko je readova uspešno mapirano?"
      ],
      "metadata": {
        "id": "yM6NcGHNKjB7"
      }
    },
    {
      "cell_type": "code",
      "source": [
        "import pysam\n",
        "\n",
        "print('Uspesno je mapirano :')\n",
        "sum(not read.is_unmapped for read in pysam.AlignmentFile('/content/file.sorted.bam'))"
      ],
      "metadata": {
        "colab": {
          "base_uri": "https://localhost:8080/"
        },
        "id": "x3-7z9u8w89t",
        "outputId": "ed9c9036-99e3-4f17-ec27-99711cb7066f"
      },
      "execution_count": 12,
      "outputs": [
        {
          "output_type": "stream",
          "name": "stdout",
          "text": [
            "Uspesno je mapirano :\n"
          ]
        },
        {
          "output_type": "execute_result",
          "data": {
            "text/plain": [
              "4367188"
            ]
          },
          "metadata": {},
          "execution_count": 12
        }
      ]
    },
    {
      "cell_type": "markdown",
      "source": [
        "Koliko je parova readova mapirano tako da su oba para mapirana?"
      ],
      "metadata": {
        "id": "W_5LrZMkKmRK"
      }
    },
    {
      "cell_type": "code",
      "source": [
        "br = 0\n",
        "for read in pysam.AlignmentFile('/content/file.sorted.bam'):\n",
        "    if(read.is_proper_pair):\n",
        "      br += 1\n",
        "print(br)"
      ],
      "metadata": {
        "colab": {
          "base_uri": "https://localhost:8080/"
        },
        "id": "FeURdVJCxUpc",
        "outputId": "51395c2a-139d-497d-8f6d-9ee9b0905c94"
      },
      "execution_count": null,
      "outputs": [
        {
          "output_type": "stream",
          "name": "stdout",
          "text": [
            "4294503\n"
          ]
        }
      ]
    },
    {
      "cell_type": "markdown",
      "source": [
        "2c.Nacrtati histogram dužina sekvenciranih fragmenata (template_length)."
      ],
      "metadata": {
        "id": "RyDgp5qYKoub"
      }
    },
    {
      "cell_type": "code",
      "source": [
        "import matplotlib.pyplot as plt\n",
        "import numpy as np\n",
        "\n",
        "fig = plt.figure(figsize=(20, 4))\n",
        "ax = fig.add_subplot(1, 4, 1)\n",
        "\n",
        "bam_file = pysam.AlignmentFile('/content/file.sorted.bam', 'rb')\n",
        "template_lengths = [record.template_length for record in bam_file.fetch('chr11')]\n",
        "bam_file.close()\n",
        "lengths = np.array(template_lengths)\n",
        "print(lengths)\n",
        "\n",
        "ax.hist(lengths, label = 'lenghts', bins = 100)\n",
        "ax.legend()\n"
      ],
      "metadata": {
        "colab": {
          "base_uri": "https://localhost:8080/",
          "height": 437
        },
        "id": "xqYvwCw5xedc",
        "outputId": "c7c76c5b-43a7-4ccd-867f-221bca78acd3"
      },
      "execution_count": 17,
      "outputs": [
        {
          "output_type": "stream",
          "name": "stdout",
          "text": [
            "[ 167  201 -167 ... -128  146 -146]\n"
          ]
        },
        {
          "output_type": "execute_result",
          "data": {
            "text/plain": [
              "<matplotlib.legend.Legend at 0x7f7d5702dba0>"
            ]
          },
          "metadata": {},
          "execution_count": 17
        },
        {
          "output_type": "display_data",
          "data": {
            "text/plain": [
              "<Figure size 2000x400 with 1 Axes>"
            ],
            "image/png": "[encoded data removed]"
          },
          "metadata": {}
        }
      ]
    },
    {
      "cell_type": "code",
      "source": [
        " Izvršiti obradu dobijenog BAM fajla prema GATK protokolu (Markiranje Duplikata, rekalibracija kvaliteta baza)\n",
        "\n",
        "3a. Koliki su procenati PCR i optičkih duplikata?"
      ],
      "metadata": {
        "id": "D8vWxq43zB-l"
      },
      "execution_count": null,
      "outputs": []
    },
    {
      "cell_type": "code",
      "metadata": {
        "id": "uOpczsbvudzb"
      },
      "source": [
        "ibam = 'file.sorted.bam'\n",
        "obam = 'file.deduped.bam'\n",
        "\n",
        "!java -jar picard.jar MarkDuplicates I={ibam} O={obam} M=dup_metrics.txt\n",
        "\n",
        "!grep -A2 '## METRICS CLASS' dup_metrics.txt | grep -v '## METRICS CLASS' > report.tsv"
      ],
      "execution_count": null,
      "outputs": []
    },
    {
      "cell_type": "code",
      "source": [
        "import pandas as pd\n",
        "pd.read_csv('report.tsv', sep='\\t')"
      ],
      "metadata": {
        "colab": {
          "base_uri": "https://localhost:8080/",
          "height": 197
        },
        "id": "hgVXPIyUziCl",
        "outputId": "f57c7d10-395e-4387-bf7a-72b34989b6b8"
      },
      "execution_count": null,
      "outputs": [
        {
          "output_type": "execute_result",
          "data": {
            "text/plain": [
              "           LIBRARY  UNPAIRED_READS_EXAMINED  READ_PAIRS_EXAMINED  \\\n",
              "0  Unknown Library                     6571              2176759   \n",
              "\n",
              "   SECONDARY_OR_SUPPLEMENTARY_RDS  UNMAPPED_READS  UNPAIRED_READ_DUPLICATES  \\\n",
              "0                            7099          166275                      3328   \n",
              "\n",
              "   READ_PAIR_DUPLICATES  READ_PAIR_OPTICAL_DUPLICATES  PERCENT_DUPLICATION  \\\n",
              "0                146477                             0             0.067953   \n",
              "\n",
              "   ESTIMATED_LIBRARY_SIZE  \n",
              "0                15440112  "
            ],
            "text/html": [
              "\n",
              "  <div id=\"df-c20505a6-18c0-4a6a-b967-0f78dd0d251d\">\n",
              "    <div class=\"colab-df-container\">\n",
              "      <div>\n",
              "<style scoped>\n",
              "    .dataframe tbody tr th:only-of-type {\n",
              "        vertical-align: middle;\n",
              "    }\n",
              "\n",
              "    .dataframe tbody tr th {\n",
              "        vertical-align: top;\n",
              "    }\n",
              "\n",
              "    .dataframe thead th {\n",
              "        text-align: right;\n",
              "    }\n",
              "</style>\n",
              "<table border=\"1\" class=\"dataframe\">\n",
              "  <thead>\n",
              "    <tr style=\"text-align: right;\">\n",
              "      <th></th>\n",
              "      <th>LIBRARY</th>\n",
              "      <th>UNPAIRED_READS_EXAMINED</th>\n",
              "      <th>READ_PAIRS_EXAMINED</th>\n",
              "      <th>SECONDARY_OR_SUPPLEMENTARY_RDS</th>\n",
              "      <th>UNMAPPED_READS</th>\n",
              "      <th>UNPAIRED_READ_DUPLICATES</th>\n",
              "      <th>READ_PAIR_DUPLICATES</th>\n",
              "      <th>READ_PAIR_OPTICAL_DUPLICATES</th>\n",
              "      <th>PERCENT_DUPLICATION</th>\n",
              "      <th>ESTIMATED_LIBRARY_SIZE</th>\n",
              "    </tr>\n",
              "  </thead>\n",
              "  <tbody>\n",
              "    <tr>\n",
              "      <th>0</th>\n",
              "      <td>Unknown Library</td>\n",
              "      <td>6571</td>\n",
              "      <td>2176759</td>\n",
              "      <td>7099</td>\n",
              "      <td>166275</td>\n",
              "      <td>3328</td>\n",
              "      <td>146477</td>\n",
              "      <td>0</td>\n",
              "      <td>0.067953</td>\n",
              "      <td>15440112</td>\n",
              "    </tr>\n",
              "  </tbody>\n",
              "</table>\n",
              "</div>\n",
              "      <button class=\"colab-df-convert\" onclick=\"convertToInteractive('df-c20505a6-18c0-4a6a-b967-0f78dd0d251d')\"\n",
              "              title=\"Convert this dataframe to an interactive table.\"\n",
              "              style=\"display:none;\">\n",
              "        \n",
              "  <svg xmlns=\"http://www.w3.org/2000/svg\" height=\"24px\"viewBox=\"0 0 24 24\"\n",
              "       width=\"24px\">\n",
              "    <path d=\"M0 0h24v24H0V0z\" fill=\"none\"/>\n",
              "    <path d=\"M18.56 5.44l.94 2.06.94-2.06 2.06-.94-2.06-.94-.94-2.06-.94 2.06-2.06.94zm-11 1L8.5 8.5l.94-2.06 2.06-.94-2.06-.94L8.5 2.5l-.94 2.06-2.06.94zm10 10l.94 2.06.94-2.06 2.06-.94-2.06-.94-.94-2.06-.94 2.06-2.06.94z\"/><path d=\"M17.41 7.96l-1.37-1.37c-.4-.4-.92-.59-1.43-.59-.52 0-1.04.2-1.43.59L10.3 9.45l-7.72 7.72c-.78.78-.78 2.05 0 2.83L4 21.41c.39.39.9.59 1.41.59.51 0 1.02-.2 1.41-.59l7.78-7.78 2.81-2.81c.8-.78.8-2.07 0-2.86zM5.41 20L4 18.59l7.72-7.72 1.47 1.35L5.41 20z\"/>\n",
              "  </svg>\n",
              "      </button>\n",
              "      \n",
              "  <style>\n",
              "    .colab-df-container {\n",
              "      display:flex;\n",
              "      flex-wrap:wrap;\n",
              "      gap: 12px;\n",
              "    }\n",
              "\n",
              "    .colab-df-convert {\n",
              "      background-color: #E8F0FE;\n",
              "      border: none;\n",
              "      border-radius: 50%;\n",
              "      cursor: pointer;\n",
              "      display: none;\n",
              "      fill: #1967D2;\n",
              "      height: 32px;\n",
              "      padding: 0 0 0 0;\n",
              "      width: 32px;\n",
              "    }\n",
              "\n",
              "    .colab-df-convert:hover {\n",
              "      background-color: #E2EBFA;\n",
              "      box-shadow: 0px 1px 2px rgba(60, 64, 67, 0.3), 0px 1px 3px 1px rgba(60, 64, 67, 0.15);\n",
              "      fill: #174EA6;\n",
              "    }\n",
              "\n",
              "    [theme=dark] .colab-df-convert {\n",
              "      background-color: #3B4455;\n",
              "      fill: #D2E3FC;\n",
              "    }\n",
              "\n",
              "    [theme=dark] .colab-df-convert:hover {\n",
              "      background-color: #434B5C;\n",
              "      box-shadow: 0px 1px 3px 1px rgba(0, 0, 0, 0.15);\n",
              "      filter: drop-shadow(0px 1px 2px rgba(0, 0, 0, 0.3));\n",
              "      fill: #FFFFFF;\n",
              "    }\n",
              "  </style>\n",
              "\n",
              "      <script>\n",
              "        const buttonEl =\n",
              "          document.querySelector('#df-c20505a6-18c0-4a6a-b967-0f78dd0d251d button.colab-df-convert');\n",
              "        buttonEl.style.display =\n",
              "          google.colab.kernel.accessAllowed ? 'block' : 'none';\n",
              "\n",
              "        async function convertToInteractive(key) {\n",
              "          const element = document.querySelector('#df-c20505a6-18c0-4a6a-b967-0f78dd0d251d');\n",
              "          const dataTable =\n",
              "            await google.colab.kernel.invokeFunction('convertToInteractive',\n",
              "                                                     [key], {});\n",
              "          if (!dataTable) return;\n",
              "\n",
              "          const docLinkHtml = 'Like what you see? Visit the ' +\n",
              "            '<a target=\"_blank\" href=https://colab.research.google.com/notebooks/data_table.ipynb>data table notebook</a>'\n",
              "            + ' to learn more about interactive tables.';\n",
              "          element.innerHTML = '';\n",
              "          dataTable['output_type'] = 'display_data';\n",
              "          await google.colab.output.renderOutput(dataTable, element);\n",
              "          const docLink = document.createElement('div');\n",
              "          docLink.innerHTML = docLinkHtml;\n",
              "          element.appendChild(docLink);\n",
              "        }\n",
              "      </script>\n",
              "    </div>\n",
              "  </div>\n",
              "  "
            ]
          },
          "metadata": {},
          "execution_count": 15
        }
      ]
    },
    {
      "cell_type": "code",
      "source": [
        "146477*2 + 3328"
      ],
      "metadata": {
        "colab": {
          "base_uri": "https://localhost:8080/"
        },
        "id": "qhhTNmOkzxE1",
        "outputId": "8f6a5bf1-c140-4e48-8416-7eb85a13edcc"
      },
      "execution_count": null,
      "outputs": [
        {
          "output_type": "execute_result",
          "data": {
            "text/plain": [
              "296282"
            ]
          },
          "metadata": {},
          "execution_count": 16
        }
      ]
    },
    {
      "cell_type": "markdown",
      "source": [
        "rekalibracija kvaliteta baza"
      ],
      "metadata": {
        "id": "DsJGvQCjK0nU"
      }
    },
    {
      "cell_type": "code",
      "source": [
        "ibam = '/content/file.deduped.bam'\n",
        "obam = 'file.recalibrated.bam'\n",
        "recal = 'file.recal.table'\n",
        "\n",
        "dbsnp = '/content/v0/Homo_sapiens_assembly38.dbsnp138.vcf'\n",
        "ref = '/content/v0/Homo_sapiens_assembly38.fasta'\n",
        "\n",
        "gatk = 'java -jar gatk-4.1.4.1/gatk-package-4.1.4.1-local.jar'"
      ],
      "metadata": {
        "id": "VcQ2Q8xzz28M"
      },
      "execution_count": null,
      "outputs": []
    },
    {
      "cell_type": "code",
      "source": [
        "!{gatk} BaseRecalibrator -I {ibam} --known-sites {dbsnp} -O {recal} --reference {ref}"
      ],
      "metadata": {
        "id": "XMCEW_6az_U8"
      },
      "execution_count": null,
      "outputs": []
    },
    {
      "cell_type": "code",
      "source": [
        "!{gatk} ApplyBQSR -I {ibam} -bqsr {recal} -O {obam}"
      ],
      "metadata": {
        "id": "vtYBVlqT0FiE"
      },
      "execution_count": null,
      "outputs": []
    },
    {
      "cell_type": "code",
      "source": [
        "post_recal = 'file.post_recal.table'\n",
        "!{gatk} BaseRecalibrator -I {obam} --known-sites {dbsnp} -O {post_recal} --reference {ref}"
      ],
      "metadata": {
        "id": "V3Sr9rJQ0Gid"
      },
      "execution_count": null,
      "outputs": []
    },
    {
      "cell_type": "code",
      "source": [
        "!{gatk} AnalyzeCovariates -before {recal} -after {post_recal} -plots 'compare.pdf'"
      ],
      "metadata": {
        "id": "es7Yk7La0JZl"
      },
      "execution_count": null,
      "outputs": []
    },
    {
      "cell_type": "markdown",
      "source": [
        " Identifikovati mutacije upotrebom alata Haplotype Caller i filtirtati mutacije predefinisanim filterima (hard filtering) prema Broad preporukama (kao što je rađeno na vežbama).\n",
        "\n",
        "4a. Koliko je ukupno mutacija identifikovano, koliko od njih su SNP-ovi, a koliko INDEL-i?\n",
        "4b. Koliko mutacija prolazi, a koliko ne prolazi kriterijume filtriranja.\n",
        "4c. Izračunati Ti/Tv odnos pre i posle filtriranja."
      ],
      "metadata": {
        "id": "UsLL-5liK5vr"
      }
    },
    {
      "cell_type": "code",
      "source": [
        "gatk = 'java -jar gatk-4.1.4.1/gatk-package-4.1.4.1-local.jar'\n",
        "dbsnp = '/content/v0/Homo_sapiens_assembly38.dbsnp138.vcf'\n",
        "ref = '/content/v0/Homo_sapiens_assembly38.fasta'\n",
        "\n",
        "ibam = '/content/file.recalibrated.bam'\n",
        "ovcf = 'file.vcf'\n",
        "\n",
        "!{gatk} HaplotypeCaller --input {ibam} --output {ovcf} --reference {ref} --dbsnp {dbsnp} -L chr11"
      ],
      "metadata": {
        "id": "K7PLBE2Q0M7N"
      },
      "execution_count": null,
      "outputs": []
    },
    {
      "cell_type": "code",
      "source": [
        "gatk = 'java -jar gatk-4.1.4.1/gatk-package-4.1.4.1-local.jar'\n",
        "\n",
        "snp_f = \"QD < 2.0 || FS > 60.0 || MQ < 40.0 || MQRankSum < -12.5 || ReadPosRankSum < -8.0\"\n",
        "indel_f = \"QD < 2.0 || FS > 200.0 || ReadPosRankSum < -20.0\" \n",
        "\n",
        "ref = '/content/v0/Homo_sapiens_assembly38.fasta'\n",
        "\n",
        "ivcf = '/content/file.vcf'\n",
        "isvcf = 'file.snp.vcf'\n",
        "iivcf = 'file.indel.vcf'\n",
        "\n",
        "\n",
        "osvcf = 'file.snp.filtered.vcf'\n",
        "oivcf = 'file.indel.filtered.vcf'\n",
        "ovcf = 'file.filtered.vcf'"
      ],
      "metadata": {
        "id": "1LMbKhAF2lh8"
      },
      "execution_count": null,
      "outputs": []
    },
    {
      "cell_type": "code",
      "source": [
        "!{gatk} SelectVariants -R {ref} -V {ivcf} -O {isvcf} --select-type-to-include SNP\n",
        "!{gatk} VariantFiltration -R {ref} -V {isvcf} -O {osvcf} -filter \"{snp_f}\" --filter-name \"snp\"\n",
        "\n",
        "!{gatk} SelectVariants -R {ref} -V {ivcf} -O {iivcf} --select-type-to-include INDEL\n",
        "!{gatk} VariantFiltration -R {ref} -V {iivcf} -O {oivcf} -filter \"{indel_f}\" --filter-name \"indel\"\n",
        "\n",
        "!{gatk} MergeVcfs -I {osvcf} -I {oivcf} -O {ovcf}"
      ],
      "metadata": {
        "id": "jfs_70cB2oGb"
      },
      "execution_count": null,
      "outputs": []
    },
    {
      "cell_type": "code",
      "source": [
        "def is_filtered(variant):\n",
        "  return 'PASS' not in variant.filter\n",
        "\n",
        "def is_snp(variant):\n",
        "  return len(variant.ref) == 1 and len(variant.alts[0]) == 1\n",
        "\n",
        "def is_transitions(variant):\n",
        "  allels = set((variant.ref, variant.alts[0]))\n",
        "  return allels == {'A', 'G'} or allels == {'C', 'T'}"
      ],
      "metadata": {
        "id": "---Iyf9q2p5D"
      },
      "execution_count": null,
      "outputs": []
    },
    {
      "cell_type": "code",
      "source": [
        "ovcf = '/content/file.filtered.vcf'\n",
        "\n",
        "print('SNPs:',\n",
        "      sum(1 for v in pysam.VariantFile(ovcf) if is_filtered(v) and is_snp(v)))\n",
        "\n",
        "print('INDELs:',\n",
        "      sum(1 for v in pysam.VariantFile(ovcf) if is_filtered(v) and not is_snp(v)))"
      ],
      "metadata": {
        "id": "E0EOnO-o2r3T",
        "colab": {
          "base_uri": "https://localhost:8080/"
        },
        "outputId": "332f215b-2ae3-4c3b-fc43-e73f3aa1f2e4"
      },
      "execution_count": null,
      "outputs": [
        {
          "output_type": "stream",
          "name": "stdout",
          "text": [
            "SNPs: 187\n",
            "INDELs: 4\n"
          ]
        }
      ]
    },
    {
      "cell_type": "code",
      "source": [
        "ovcf = '/content/file.filtered.vcf'\n",
        "print('Filtrirani:', sum(1 for v in pysam.VariantFile(ovcf) if is_filtered(v)))\n",
        "print('Nefiltrirani:', sum(1 for v in pysam.VariantFile(ovcf) if not is_filtered(v)))"
      ],
      "metadata": {
        "id": "jZ3DCUUN2tyb",
        "colab": {
          "base_uri": "https://localhost:8080/"
        },
        "outputId": "a103176b-5cba-4ebd-e54f-1a2ee451e1c2"
      },
      "execution_count": null,
      "outputs": [
        {
          "output_type": "stream",
          "name": "stdout",
          "text": [
            "Filtrirani: 191\n",
            "Nefiltrirani: 13645\n"
          ]
        }
      ]
    },
    {
      "cell_type": "code",
      "source": [
        "x = '/content/file.vcf'\n",
        "\n",
        "ti = sum(1 for v in pysam.VariantFile(x) \\\n",
        "         if not is_filtered(v) \\\n",
        "         and is_snp(v)\\\n",
        "         and is_transitions(v))\n",
        "\n",
        "tv = sum(1 for v in pysam.VariantFile(x) \\\n",
        "          if not is_filtered(v) \\\n",
        "          and is_snp(v) \\\n",
        "          and not is_transitions(v))\n",
        "\n",
        "print('Ti:', ti)\n",
        "print('Tv:', tv)\n",
        "print('Ti/Tv odnos pre filtriranja', ti/tv)"
      ],
      "metadata": {
        "id": "z2uN54ZS2vpb",
        "colab": {
          "base_uri": "https://localhost:8080/"
        },
        "outputId": "8ce2c8fd-cae3-42bb-c99b-78e9d1ad95c1"
      },
      "execution_count": null,
      "outputs": [
        {
          "output_type": "stream",
          "name": "stdout",
          "text": [
            "Ti: 8724\n",
            "Tv: 4010\n",
            "Ti/Tv odnos pre filtriranja 2.1755610972568578\n"
          ]
        }
      ]
    },
    {
      "cell_type": "code",
      "source": [
        "ti = sum(1 for v in pysam.VariantFile(ovcf) \\\n",
        "         if not is_filtered(v) \\\n",
        "         and is_snp(v)\\\n",
        "         and is_transitions(v))\n",
        "\n",
        "tv = sum(1 for v in pysam.VariantFile(ovcf) \\\n",
        "          if not is_filtered(v) \\\n",
        "          and is_snp(v) \\\n",
        "          and not is_transitions(v))\n",
        "\n",
        "print('Ti:', ti)\n",
        "print('Tv:', tv)\n",
        "print('Ti/Tv odnos posle filtriranja', ti/tv)"
      ],
      "metadata": {
        "id": "haO0O21y2xMz",
        "colab": {
          "base_uri": "https://localhost:8080/"
        },
        "outputId": "d4f01a5f-44cc-4d3a-dfa6-85eea2b4bc56"
      },
      "execution_count": null,
      "outputs": [
        {
          "output_type": "stream",
          "name": "stdout",
          "text": [
            "Ti: 8588\n",
            "Tv: 3959\n",
            "Ti/Tv odnos posle filtriranja 2.1692346552159636\n"
          ]
        }
      ]
    },
    {
      "cell_type": "markdown",
      "source": [
        "Anotirati mutacije alatom Funcotator\n",
        "\n",
        "5a. Izbrojati različite vrednosti ClinVar značajnosti (anotacija ClinVar_VCF_CLNSIG, koliko mutacija je označeno kao Benign, Likely_benign, itd.)."
      ],
      "metadata": {
        "id": "VxKyfvzxOa2j"
      }
    },
    {
      "cell_type": "code",
      "source": [
        "!{gatk} FuncotatorDataSourceDownloader --germline --extract-after-download"
      ],
      "metadata": {
        "id": "FMzUWzDG26UU"
      },
      "execution_count": null,
      "outputs": []
    },
    {
      "cell_type": "code",
      "source": [
        "!cp \"/content/drive/MyDrive/funcotator-funcotator_dataSources.v1.6.20190124g.tar.gz\" .\n",
        "!tar -xzf \"funcotator-funcotator_dataSources.v1.6.20190124g.tar.gz\""
      ],
      "metadata": {
        "id": "aZvCJC8Etgze"
      },
      "execution_count": null,
      "outputs": []
    },
    {
      "cell_type": "code",
      "source": [
        "ivcf = '/content/file.filtered.vcf'\n",
        "ovcf = 'file.annotated.vcf'\n",
        "func = 'funcotator_dataSources.v1.6.20190124g/'\n",
        "\n",
        "!{gatk} Funcotator -O {ovcf} --ref-version hg38 -R {ref} -V {ivcf} --output-file-format VCF --data-sources-path {func}"
      ],
      "metadata": {
        "id": "HRwtN4NA27nE"
      },
      "execution_count": null,
      "outputs": []
    },
    {
      "cell_type": "code",
      "source": [
        "reader = pysam.VariantFile(ovcf)\n",
        "description = reader.header.info['FUNCOTATION'].description\n",
        "print(description)\n",
        "functotations = description[73:].split('|')"
      ],
      "metadata": {
        "id": "xdrgjkd-29yk"
      },
      "execution_count": null,
      "outputs": []
    },
    {
      "cell_type": "code",
      "source": [
        "print('\\n'.join(functotations))"
      ],
      "metadata": {
        "id": "5bX1ViJG2_bk"
      },
      "execution_count": null,
      "outputs": []
    },
    {
      "cell_type": "code",
      "source": [
        "b = 0\n",
        "lb = 0\n",
        "b_lb = 0\n",
        "\n",
        "for variant in pysam.VariantFile(ovcf):\n",
        "  ann = {x:y for x, y in zip(functotations, \n",
        "                             variant.info['FUNCOTATION'][0][1:-1].split('|'))}\n",
        "\n",
        "  if ann['ClinVar_VCF_CLNSIG'] == 'Benign':\n",
        "    b += 1\n",
        "  elif ann['ClinVar_VCF_CLNSIG'] == 'Likely_benign':\n",
        "    lb += 1\n",
        "  elif ann['ClinVar_VCF_CLNSIG'] == 'Benign/Likely_benign':\n",
        "    b_lb += 1\n",
        "    \n",
        "print('Benign: ')\n",
        "print(b)\n",
        "print('Likely_benign: ')\n",
        "print(lb)\n",
        "print('Benign/Likely_benign: ')\n",
        "print(b_lb)"
      ],
      "metadata": {
        "id": "wh77zEFD3A-8",
        "colab": {
          "base_uri": "https://localhost:8080/"
        },
        "outputId": "04bc960e-2046-4bc8-eee0-c90a7d337d74"
      },
      "execution_count": null,
      "outputs": [
        {
          "output_type": "stream",
          "name": "stdout",
          "text": [
            "Benign: \n",
            "265\n",
            "Likely_benign: \n",
            "25\n",
            "Benign/Likely_benign: \n",
            "46\n"
          ]
        }
      ]
    },
    {
      "cell_type": "markdown",
      "source": [
        "Svi uzorici sadrže određenu količinu kontaminacije DNK materijalom bakterijskog ili virusnog porekla. Većina ovakvih readova se neće mapirati na ljudski genom. Izvući readove koji nisu mapirani u procesu mapiranja, asemblovati ih alatom abyss, i identifikovati organizam od kojeg potiče najduži skafold upotrebom alata Blast."
      ],
      "metadata": {
        "id": "jz31FcYa1rfK"
      }
    },
    {
      "cell_type": "code",
      "source": [
        "!sudo apt-get install autotools-dev automake\n",
        "!git clone https://github.com/bcgsc/abyss.git\n",
        "!cd abyss && ./autogen.sh\n",
        "!cd abyss && ./configure\n",
        "!cd abyss && make\n",
        "!cd abyss && sudo make install\n",
        " \n",
        "!sudo apt-get install abyss"
      ],
      "metadata": {
        "id": "Dy4VpDwfR-3D"
      },
      "execution_count": null,
      "outputs": []
    },
    {
      "cell_type": "code",
      "source": [
        "!wget https://ftp-trace.ncbi.nlm.nih.gov/sra/sdk/2.10.0/setup-apt.sh\n",
        "!sudo sh setup-apt.sh"
      ],
      "metadata": {
        "id": "eKLr3TpJSlAT"
      },
      "execution_count": null,
      "outputs": []
    },
    {
      "cell_type": "code",
      "source": [
        "# Prazan FASTQ fajl\n",
        "fastq_file = '/content/drive/MyDrive/novi.fastq'\n",
        "\n",
        "# Otvaranje fajla u režimu pisanja\n",
        "with open(fastq_file, 'w') as f:\n",
        "    pass\n",
        "\n",
        "# Potvrda završetka\n",
        "print(f'Prazan FASTQ fajl {fastq_file} je uspešno generisan.')\n"
      ],
      "metadata": {
        "colab": {
          "base_uri": "https://localhost:8080/"
        },
        "id": "BhhZ-6J9i8Ib",
        "outputId": "61a69607-a7f3-46e2-c95f-f8baf2d28167"
      },
      "execution_count": null,
      "outputs": [
        {
          "output_type": "stream",
          "name": "stdout",
          "text": [
            "Prazan FASTQ fajl /content/drive/MyDrive/novi.fastq je uspešno generisan.\n"
          ]
        }
      ]
    },
    {
      "cell_type": "code",
      "source": [
        "from Bio import SeqIO\n",
        "import pysam\n",
        "\n",
        "# Putanja do BAM fajla\n",
        "bam_file = '/content/file.sorted.bam'\n",
        "\n",
        "# Otvorite BAM fajl za čitanje\n",
        "bam = pysam.AlignmentFile(bam_file, 'rb')\n",
        "\n",
        "# Kreirajte praznu listu za čuvanje ne-mapiranih readova\n",
        "unmapped_reads = []\n",
        "\n",
        "# Iterirajte kroz svaki read u BAM fajlu\n",
        "for read in bam.fetch():\n",
        "    if read.is_unmapped:  # Proverite da li je read ne-mapiran\n",
        "        unmapped_reads.append(read.query_sequence)\n",
        "\n",
        "# Zatvorite BAM fajl\n",
        "bam.close()\n",
        "\n",
        "# Putanja do izlaznog FASTQ fajla\n",
        "fastq_file = '/content/drive/MyDrive/novi.fastq'\n",
        "\n",
        "# Kreiranje i čuvanje FASTQ zapisa za nemapirane readove\n",
        "seq_records = []\n",
        "for i, seq in enumerate(unmapped_reads):\n",
        "    seq_record = SeqIO.SeqRecord(Seq(seq), id=f'read{i+1}', description='')\n",
        "    seq_record.letter_annotations[\"phred_quality\"] = [40] * len(seq)  # Postavljamo podrazumevanu vrednost kvaliteta\n",
        "    seq_records.append(seq_record)\n",
        "\n",
        "SeqIO.write(seq_records, fastq_file, 'fastq')\n",
        "\n",
        "print(f'FASTQ fajl sa nemapiranim readovima je uspešno kreiran: {fastq_file}')\n"
      ],
      "metadata": {
        "colab": {
          "base_uri": "https://localhost:8080/"
        },
        "id": "ZghqHF88jNFU",
        "outputId": "7867610a-0fea-4b09-bbf6-55a613401cf5"
      },
      "execution_count": null,
      "outputs": [
        {
          "output_type": "stream",
          "name": "stdout",
          "text": [
            "FASTQ fajl sa nemapiranim readovima je uspešno kreiran: /content/drive/MyDrive/novi.fastq\n"
          ]
        }
      ]
    },
    {
      "cell_type": "code",
      "source": [
        "!abyss-pe name=chr11 k=64 in='/content/drive/MyDrive/sample_3.chrom11.exome.pe1.fq /content/drive/MyDrive/sample_3.chrom11.exome.pe2.fq'"
      ],
      "metadata": {
        "id": "kw7_DmzQqwEC"
      },
      "execution_count": null,
      "outputs": []
    },
    {
      "cell_type": "code",
      "source": [
        "import pysam\n",
        "\n",
        "freader = pysam.FastaFile('/content/drive/MyDrive/novi.fastq')"
      ],
      "metadata": {
        "id": "196pAMl-ySta"
      },
      "execution_count": null,
      "outputs": []
    },
    {
      "cell_type": "code",
      "source": [
        "list(zip(freader.lengths, freader.references))"
      ],
      "metadata": {
        "id": "9bS-Mq_cyamq"
      },
      "execution_count": null,
      "outputs": []
    },
    {
      "cell_type": "code",
      "source": [
        "max_ref = sorted(zip(freader.lengths, freader.references), reverse=True)[0]\n",
        "max_ref"
      ],
      "metadata": {
        "colab": {
          "base_uri": "https://localhost:8080/"
        },
        "id": "hnVxfcNwydsz",
        "outputId": "3c5ca436-982d-4738-b80f-9b24b958cc8a"
      },
      "execution_count": null,
      "outputs": [
        {
          "output_type": "execute_result",
          "data": {
            "text/plain": [
              "(301, 'read9')"
            ]
          },
          "metadata": {},
          "execution_count": 82
        }
      ]
    },
    {
      "cell_type": "code",
      "source": [
        "freader.fetch(max_ref[1])"
      ],
      "metadata": {
        "colab": {
          "base_uri": "https://localhost:8080/",
          "height": 55
        },
        "id": "Ji17Hc91z5zd",
        "outputId": "69780d58-ccb5-474d-e740-49e859fd07c4"
      },
      "execution_count": null,
      "outputs": [
        {
          "output_type": "execute_result",
          "data": {
            "text/plain": [
              "'GTTTTAGGGCCCGGACGGTGATGCGCGCGTTGCGGAACGGGGCGGGGTTCGCGTCAAATGCCGCGCGAATATCCGGAGCGTGCGGAGTACAGACCAGGTTTTGACAGAGTTCGCGCAGGACAGTGGCGGTCCATTGTGCCTTCAGTCCTTCCGGATGCAGGATTTCTTCGGCTCCGTCGGCCCGGAGACGCCGCCGCTCGCCGCTGAGTTGACCGATAATCTTGAGTGCAACAGCAATGAGAGCAGGACGACTGTGGGAGAGCAGGTCGGTGAACAGCGGCGAGTCCATAGTGATCCACAG'"
            ],
            "application/vnd.google.colaboratory.intrinsic+json": {
              "type": "string"
            }
          },
          "metadata": {},
          "execution_count": 83
        }
      ]
    }
  ]
}